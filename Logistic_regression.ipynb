{
 "cells": [
  {
   "cell_type": "markdown",
   "id": "cb01ca33-fd6f-4047-b6a6-e39ecea18a39",
   "metadata": {},
   "source": [
    "## Model LogisticRegression"
   ]
  },
  {
   "cell_type": "code",
   "execution_count": 1,
   "id": "d1d37cef-5c78-4af1-9fee-a01f5dba518f",
   "metadata": {},
   "outputs": [
    {
     "name": "stdout",
     "output_type": "stream",
     "text": [
      "              precision    recall  f1-score     support\n",
      "0              0.338494  0.358153  0.348046  2686.00000\n",
      "1              0.331642  0.271014  0.298278  2653.00000\n",
      "2              0.330769  0.371665  0.350027  2661.00000\n",
      "accuracy       0.333750  0.333750  0.333750     0.33375\n",
      "macro avg      0.333635  0.333611  0.332117  8000.00000\n",
      "weighted avg   0.333652  0.333750  0.332201  8000.00000\n"
     ]
    }
   ],
   "source": [
    "import pandas as pd\n",
    "from sklearn.model_selection import train_test_split\n",
    "from sklearn.preprocessing import StandardScaler\n",
    "from sklearn.linear_model import LogisticRegression\n",
    "from sklearn.metrics import accuracy_score, classification_report\n",
    "\n",
    "file_path = \"cyberdata_ip_city.csv\"\n",
    "cyberdata = pd.read_csv(file_path)\n",
    "\n",
    "if \"Attack Type\" in cyberdata.columns:\n",
    "    features = cyberdata.select_dtypes(include=['number']).drop(columns=[\"Attack Type\"], errors='ignore')\n",
    "    target = cyberdata[\"Attack Type\"]\n",
    "\n",
    "    X_train, X_test, y_train, y_test = train_test_split(features, target, test_size=0.2, random_state=42, stratify=target)\n",
    "\n",
    "    scaler = StandardScaler()\n",
    "    X_train_scaled = scaler.fit_transform(X_train)\n",
    "    X_test_scaled = scaler.transform(X_test)\n",
    "    \n",
    "    model = LogisticRegression(max_iter=1000)\n",
    "    model.fit(X_train_scaled, y_train)\n",
    "\n",
    "   \n",
    "    y_pred = model.predict(X_test_scaled)\n",
    "\n",
    "    accuracy = accuracy_score(y_test, y_pred)\n",
    "    classification_rep = classification_report(y_test, y_pred)\n",
    "\n",
    "    model_results = {\n",
    "        \"Accuracy Score\": accuracy,\n",
    "        \"Classification Report\": classification_rep\n",
    "    }\n",
    "    model_results_df = pd.DataFrame({\"Metric\": [\"Accuracy Score\"], \"Value\": [accuracy]})\n",
    "    classification_report_df = pd.DataFrame(classification_report(y_test, y_pred, output_dict=True)).transpose()\n",
    "    \n",
    "    print(classification_report_df)\n",
    "\n",
    "else:\n",
    "    model_results = {\"Error : 'Attack Type' does not exist\"}"
   ]
  },
  {
   "cell_type": "code",
   "execution_count": null,
   "id": "164fd463-2fe5-47d9-ba30-9b3a53bdd61d",
   "metadata": {},
   "outputs": [],
   "source": []
  }
 ],
 "metadata": {
  "kernelspec": {
   "display_name": "Python 3 (ipykernel)",
   "language": "python",
   "name": "python3"
  },
  "language_info": {
   "codemirror_mode": {
    "name": "ipython",
    "version": 3
   },
   "file_extension": ".py",
   "mimetype": "text/x-python",
   "name": "python",
   "nbconvert_exporter": "python",
   "pygments_lexer": "ipython3",
   "version": "3.12.4"
  }
 },
 "nbformat": 4,
 "nbformat_minor": 5
}
