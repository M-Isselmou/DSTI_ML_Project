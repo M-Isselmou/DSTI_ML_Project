{
 "cells": [
  {
   "cell_type": "markdown",
   "id": "cb01ca33-fd6f-4047-b6a6-e39ecea18a39",
   "metadata": {},
   "source": [
    "## Model LogisticRegression"
   ]
  },
  {
   "cell_type": "code",
   "execution_count": 25,
   "id": "d1d37cef-5c78-4af1-9fee-a01f5dba518f",
   "metadata": {},
   "outputs": [
    {
     "name": "stdout",
     "output_type": "stream",
     "text": [
      "              precision    recall  f1-score    support\n",
      "DDoS           0.329235  0.319062  0.324069  2686.0000\n",
      "Intrusion      0.339161  0.329061  0.334035  2653.0000\n",
      "Malware        0.329437  0.349493  0.339168  2661.0000\n",
      "accuracy       0.332500  0.332500  0.332500     0.3325\n",
      "macro avg      0.332611  0.332539  0.332424  8000.0000\n",
      "weighted avg   0.332594  0.332500  0.332396  8000.0000\n"
     ]
    }
   ],
   "source": [
    "import pandas as pd\n",
    "from sklearn.model_selection import train_test_split\n",
    "from sklearn.preprocessing import StandardScaler\n",
    "from sklearn.linear_model import LogisticRegression\n",
    "from sklearn.metrics import accuracy_score, classification_report\n",
    "from sklearn.preprocessing import StandardScaler, OneHotEncoder, OrdinalEncoder\n",
    "from sklearn.compose import ColumnTransformer\n",
    "from sklearn.pipeline import Pipeline\n",
    "from sklearn.metrics import accuracy_score, classification_report\n",
    "\n",
    "\n",
    "\n",
    "file_path = \"cyberdata_clean.csv\"\n",
    "cyberdata = pd.read_csv(file_path)\n",
    "\n",
    "if \"Attack Type\" in cyberdata.columns:\n",
    "    \n",
    "    # Remove \"Attack Type\" from the nominal features since it is the target variable.\n",
    "    nominal_cols = [\n",
    "        \"Protocol\", \"Packet Type\", \"Traffic Type\", \"Attack Signature\",\n",
    "        \"Action Taken\", \"Network Segment\", \"Log Source\", \"City\", \"Region\", \"Browser\", \"Operating System\"\n",
    "    ]\n",
    "    \n",
    "    ordinal_cols = [\"Severity Level\", \"Anomaly Score Category\", \"Packet Length Category\"]\n",
    "    \n",
    "    numeric_cols = [\"Source IP FirstOctet\", \"Destination IP FirstOctet\"]\n",
    "    \n",
    "    # Define the complete list of feature columns to be used for training\n",
    "    feature_cols = nominal_cols + ordinal_cols + numeric_cols\n",
    "        \n",
    "        \n",
    "    features = cyberdata[feature_cols]\n",
    "    target = cyberdata[\"Attack Type\"]\n",
    "\n",
    "    X_train, X_test, y_train, y_test = train_test_split(features, target, test_size=0.2, random_state=42, stratify=target)\n",
    "    # Create the ColumnTransformer with appropriate encoders\n",
    "    preprocessor = ColumnTransformer(\n",
    "        transformers=[\n",
    "            ('nom', OneHotEncoder(handle_unknown='ignore'), nominal_cols),\n",
    "            ('ord', OrdinalEncoder(), ordinal_cols),\n",
    "            ('num', StandardScaler(), numeric_cols)\n",
    "        ]\n",
    "    )\n",
    "    \n",
    "    # Create a pipeline that applies the preprocessor and then the classifier\n",
    "    pipeline = Pipeline([\n",
    "        ('preprocessor', preprocessor),\n",
    "        ('lr', LogisticRegression(max_iter=1000))\n",
    "    ])\n",
    "    \n",
    "    \n",
    "    pipeline.fit(X_train, y_train)\n",
    "\n",
    "   \n",
    "    y_pred = pipeline.predict(X_test)\n",
    "\n",
    "    accuracy = accuracy_score(y_test, y_pred)\n",
    "    classification_rep = classification_report(y_test, y_pred)\n",
    "\n",
    "    model_results = {\n",
    "        \"Accuracy Score\": accuracy,\n",
    "        \"Classification Report\": classification_rep\n",
    "    }\n",
    "    model_results_df = pd.DataFrame({\"Metric\": [\"Accuracy Score\"], \"Value\": [accuracy]})\n",
    "    classification_report_df = pd.DataFrame(classification_report(y_test, y_pred, output_dict=True)).transpose()\n",
    "    \n",
    "    print(classification_report_df)\n",
    "\n",
    "else:\n",
    "    model_results = {\"Error : 'Attack Type' does not exist\"}"
   ]
  },
  {
   "cell_type": "code",
   "execution_count": 47,
   "id": "164fd463-2fe5-47d9-ba30-9b3a53bdd61d",
   "metadata": {},
   "outputs": [
    {
     "name": "stdout",
     "output_type": "stream",
     "text": [
      "Test sample:       Protocol Packet Type Traffic Type Attack Signature Action Taken  \\\n",
      "24413      TCP        Data          FTP  Known Pattern B       Logged   \n",
      "\n",
      "      Network Segment Log Source      City     Region  Browser  \\\n",
      "24413       Segment C   Firewall  Fatehpur  Telangana  Mozilla   \n",
      "\n",
      "      Operating System Severity Level Anomaly Score Category  \\\n",
      "24413          Windows           High                  80-50   \n",
      "\n",
      "      Packet Length Category  Source IP FirstOctet  Destination IP FirstOctet  \n",
      "24413            little long                    95                        141  \n",
      "Predicted target: ['Intrusion']\n"
     ]
    }
   ],
   "source": [
    "# Select the first sample from X_test as a DataFrame\n",
    "sample = X_test.loc[[X_test.index[10]]]\n",
    "print(\"Test sample:\",sample)\n",
    "# Predict the target using the best_pipeline from RandomizedSearchCV\n",
    "predict_target = pipeline.predict(sample)\n",
    "print(\"Predicted target:\", predict_target)\n"
   ]
  },
  {
   "cell_type": "code",
   "execution_count": 39,
   "id": "f3d9c9bf",
   "metadata": {},
   "outputs": [
    {
     "data": {
      "text/plain": [
       "Index(['Protocol', 'Packet Type', 'Traffic Type', 'Attack Signature',\n",
       "       'Action Taken', 'Network Segment', 'Log Source', 'City', 'Region',\n",
       "       'Browser', 'Operating System', 'Severity Level',\n",
       "       'Anomaly Score Category', 'Packet Length Category',\n",
       "       'Source IP FirstOctet', 'Destination IP FirstOctet'],\n",
       "      dtype='object')"
      ]
     },
     "execution_count": 39,
     "metadata": {},
     "output_type": "execute_result"
    }
   ],
   "source": [
    "X_test.columns"
   ]
  },
  {
   "cell_type": "markdown",
   "id": "0b6678f0",
   "metadata": {},
   "source": [
    "Export Model"
   ]
  },
  {
   "cell_type": "code",
   "execution_count": 27,
   "id": "b51f3007",
   "metadata": {},
   "outputs": [],
   "source": [
    "import joblib\n",
    "\n",
    "model = joblib.dump(pipeline, \"cyber_attack_lr_model.joblib\")"
   ]
  },
  {
   "cell_type": "markdown",
   "id": "c56362f1",
   "metadata": {},
   "source": [
    "Load the model "
   ]
  },
  {
   "cell_type": "code",
   "execution_count": 36,
   "id": "33123ab3",
   "metadata": {},
   "outputs": [],
   "source": [
    "model = joblib.load(\"cyber_attack_lr_model.joblib\")"
   ]
  },
  {
   "cell_type": "code",
   "execution_count": null,
   "id": "d2de6d37",
   "metadata": {},
   "outputs": [
    {
     "name": "stdout",
     "output_type": "stream",
     "text": [
      "Predicted Attack Type: Malware\n"
     ]
    }
   ],
   "source": [
    "import pandas as pd\n",
    "import joblib\n",
    "\n",
    "# Load the  trained model (assumed to be a pipeline)\n",
    "model = joblib.load(\"cyber_attack_lr_model.joblib\")\n",
    "\n",
    "# Correct test sample as a list of 16 values in the expected order:\n",
    "test = [\n",
    "    \"TCP\",               # Protocol\n",
    "    \"Data\",              # Packet Type\n",
    "    \"DNS\",            # Traffic Type\n",
    "    \"Known Pattern A\",   # Attack Signature\n",
    "    \"Logged\",       # Action Taken\n",
    "    \"Segment A\",         # Network Segment\n",
    "    \"Firewall\",          # Log Source\n",
    "    \"Bhilai\",    # City\n",
    "    \"Assam\",      # Region\n",
    "    \"Opera\",             # Browser\n",
    "    \"Windows\",        # Operating System\n",
    "    \"Low\",               # Severity Level\n",
    "    \"100-80\",            # Anomaly Score Category\n",
    "    \"long\",              # Packet Length Category\n",
    "    334,              # Source IP FirstOctet\n",
    "    34                  # Destination IP FirstOctet\n",
    "]\n",
    "\n",
    "# Define the columns in the same order as used during training:\n",
    "columns = [\n",
    "    \"Protocol\",\n",
    "    \"Packet Type\",\n",
    "    \"Traffic Type\",\n",
    "    \"Attack Signature\",\n",
    "    \"Action Taken\",\n",
    "    \"Network Segment\",\n",
    "    \"Log Source\",\n",
    "    \"City\",\n",
    "    \"Region\",\n",
    "    \"Browser\",\n",
    "    \"Operating System\",\n",
    "    \"Severity Level\",\n",
    "    \"Anomaly Score Category\",\n",
    "    \"Packet Length Category\",\n",
    "    \"Source IP FirstOctet\",\n",
    "    \"Destination IP FirstOctet\"\n",
    "]\n",
    "\n",
    "# Convert the test sample into a DataFrame\n",
    "test_df = pd.DataFrame([test], columns=columns)\n",
    "\n",
    "# Predict the target for the single sample\n",
    "prediction = model.predict(test_df)\n",
    "print(\"Predicted Attack Type:\", prediction[0])\n",
    "\n"
   ]
  }
 ],
 "metadata": {
  "kernelspec": {
   "display_name": ".venv",
   "language": "python",
   "name": "python3"
  },
  "language_info": {
   "codemirror_mode": {
    "name": "ipython",
    "version": 3
   },
   "file_extension": ".py",
   "mimetype": "text/x-python",
   "name": "python",
   "nbconvert_exporter": "python",
   "pygments_lexer": "ipython3",
   "version": "3.12.4"
  }
 },
 "nbformat": 4,
 "nbformat_minor": 5
}
