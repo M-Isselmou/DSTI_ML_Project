{
 "cells": [
  {
   "cell_type": "markdown",
   "id": "460a10d0-4638-4862-a433-7f06480264bd",
   "metadata": {},
   "source": [
    "## XGBOOSTClassifier model with RandomizedSearchCV to the best paramater"
   ]
  },
  {
   "cell_type": "code",
   "execution_count": 8,
   "id": "d3e1b3b8-ffed-47d1-b890-f4c2b0cf296c",
   "metadata": {},
   "outputs": [
    {
     "name": "stdout",
     "output_type": "stream",
     "text": [
      "Best hyperparameters:\n",
      "{'colsample_bytree': np.float64(0.9006523757990821), 'gamma': np.float64(0.33296117830874833), 'learning_rate': np.float64(0.06912977877077271), 'max_depth': 10, 'n_estimators': 184, 'reg_alpha': np.float64(0.4722149251619493), 'reg_lambda': np.float64(0.17939136890745255), 'subsample': np.float64(0.9139734361668984)}\n",
      "Accuracy Score: 0.33125\n",
      "Classification Report:\n",
      "               precision    recall  f1-score   support\n",
      "\n",
      "        DDoS       0.33      0.35      0.34      2686\n",
      "   Intrusion       0.33      0.31      0.32      2653\n",
      "     Malware       0.33      0.33      0.33      2661\n",
      "\n",
      "    accuracy                           0.33      8000\n",
      "   macro avg       0.33      0.33      0.33      8000\n",
      "weighted avg       0.33      0.33      0.33      8000\n",
      "\n"
     ]
    }
   ],
   "source": [
    "import pandas as pd\n",
    "from sklearn.model_selection import train_test_split, RandomizedSearchCV\n",
    "from sklearn.preprocessing import StandardScaler, OneHotEncoder, OrdinalEncoder, LabelEncoder\n",
    "from sklearn.compose import ColumnTransformer\n",
    "from xgboost import XGBClassifier\n",
    "from sklearn.metrics import accuracy_score, classification_report\n",
    "from scipy.stats import uniform, randint\n",
    "from sklearn.feature_selection import SelectFromModel\n",
    "\n",
    "# Load the dataset\n",
    "file_path = \"cyberdata_clean.csv\"\n",
    "cyberdata = pd.read_csv(file_path)\n",
    "\n",
    "if \"Attack Type\" in cyberdata.columns:\n",
    "\n",
    "    # Define column types\n",
    "    nominal_cols = [\n",
    "        \"Protocol\", \"Packet Type\", \"Traffic Type\", \"Attack Signature\",\n",
    "        \"Action Taken\", \"Network Segment\", \"Log Source\", \"City\", \"Region\", \"Browser\", \"Operating System\"\n",
    "    ]\n",
    "\n",
    "    ordinal_cols = [\"Severity Level\", \"Anomaly Score Category\", \"Packet Length Category\"]\n",
    "    numeric_cols = [\"Source IP FirstOctet\", \"Destination IP FirstOctet\"]\n",
    "\n",
    "    feature_cols = nominal_cols + ordinal_cols + numeric_cols\n",
    "\n",
    "    # Preprocessing pipeline\n",
    "    preprocessor = ColumnTransformer(\n",
    "        transformers=[\n",
    "            ('nom', OneHotEncoder(handle_unknown='ignore'), nominal_cols),\n",
    "            ('ord', OrdinalEncoder(), ordinal_cols),\n",
    "            ('num', StandardScaler(), numeric_cols)\n",
    "        ]\n",
    "    )\n",
    "\n",
    "    # Features and target\n",
    "    target = cyberdata[\"Attack Type\"]\n",
    "    features = cyberdata[feature_cols]\n",
    "\n",
    "    # Label encoding\n",
    "    label_encoder = LabelEncoder()\n",
    "    target_encoded = label_encoder.fit_transform(target)\n",
    "\n",
    "    # Train-test split\n",
    "    X_train, X_test, y_train, y_test = train_test_split(\n",
    "        features, target_encoded, test_size=0.2, random_state=42, stratify=target_encoded\n",
    "    )\n",
    "\n",
    "    # Explicitly preprocess data\n",
    "    X_train_processed = preprocessor.fit_transform(X_train)\n",
    "    X_test_processed = preprocessor.transform(X_test)\n",
    "\n",
    "    # Feature selection (without deprecated parameter)\n",
    "    selector = SelectFromModel(XGBClassifier(random_state=42, eval_metric='mlogloss'))\n",
    "    X_train_selected = selector.fit_transform(X_train_processed, y_train)\n",
    "    X_test_selected = selector.transform(X_test_processed)\n",
    "\n",
    "    # XGBClassifier with proper multi-class objective\n",
    "    xgb_model = XGBClassifier(\n",
    "        objective='multi:softprob',\n",
    "        random_state=42,\n",
    "        eval_metric='mlogloss'\n",
    "    )\n",
    "\n",
    "    # Hyperparameter tuning\n",
    "    param_dist = {\n",
    "        'n_estimators': randint(150, 500),\n",
    "        'max_depth': randint(5, 15),\n",
    "        'learning_rate': uniform(0.01, 0.1),\n",
    "        'subsample': uniform(0.7, 0.3),\n",
    "        'colsample_bytree': uniform(0.7, 0.3),\n",
    "        'gamma': uniform(0, 0.5),\n",
    "        'reg_alpha': uniform(0, 1),\n",
    "        'reg_lambda': uniform(0, 1.5)\n",
    "    }\n",
    "\n",
    "    random_search = RandomizedSearchCV(\n",
    "        estimator=xgb_model,\n",
    "        param_distributions=param_dist,\n",
    "        n_iter=50,\n",
    "        cv=5,\n",
    "        scoring='accuracy',\n",
    "        random_state=42,\n",
    "        n_jobs=-1\n",
    "    )\n",
    "\n",
    "    # Fit RandomizedSearchCV\n",
    "    random_search.fit(X_train_selected, y_train)\n",
    "\n",
    "    # Results\n",
    "    print(\"Best hyperparameters:\")\n",
    "    print(random_search.best_params_)\n",
    "\n",
    "    y_pred = random_search.predict(X_test_selected)\n",
    "\n",
    "    accuracy = accuracy_score(y_test, y_pred)\n",
    "    classification_rep = classification_report(\n",
    "        y_test, y_pred, target_names=label_encoder.classes_\n",
    "    )\n",
    "\n",
    "    print(\"Accuracy Score:\", accuracy)\n",
    "    print(\"Classification Report:\\n\", classification_rep)\n",
    "\n",
    "else:\n",
    "    print(\"Error: 'Attack Type' does not exist in the dataset\")\n"
   ]
  },
  {
   "cell_type": "markdown",
   "id": "fbcef36a",
   "metadata": {},
   "source": [
    "Persisting the model for deployment \n"
   ]
  },
  {
   "cell_type": "code",
   "execution_count": 9,
   "id": "cf5b1fb3",
   "metadata": {},
   "outputs": [
    {
     "data": {
      "text/plain": [
       "['xgb_model.pkl']"
      ]
     },
     "execution_count": 9,
     "metadata": {},
     "output_type": "execute_result"
    }
   ],
   "source": [
    "import joblib\n",
    "# Save the entire pipeline for deployment ( we use pipeline to conserve the same scaler when a new data is entered)\n",
    "joblib.dump(random_search.best_estimator_, 'xgb_model.pkl')\n"
   ]
  }
 ],
 "metadata": {
  "kernelspec": {
   "display_name": ".venv",
   "language": "python",
   "name": "python3"
  },
  "language_info": {
   "codemirror_mode": {
    "name": "ipython",
    "version": 3
   },
   "file_extension": ".py",
   "mimetype": "text/x-python",
   "name": "python",
   "nbconvert_exporter": "python",
   "pygments_lexer": "ipython3",
   "version": "3.12.4"
  }
 },
 "nbformat": 4,
 "nbformat_minor": 5
}
