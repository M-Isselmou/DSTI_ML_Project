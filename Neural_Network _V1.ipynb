{
 "cells": [
  {
   "cell_type": "markdown",
   "id": "460a10d0-4638-4862-a433-7f06480264bd",
   "metadata": {},
   "source": [
    "## MLPClassifier model with RandomizedSearchCV to the best paramater"
   ]
  },
  {
   "cell_type": "code",
   "execution_count": 4,
   "id": "d3e1b3b8-ffed-47d1-b890-f4c2b0cf296c",
   "metadata": {},
   "outputs": [
    {
     "name": "stdout",
     "output_type": "stream",
     "text": [
      "Best hyperparameters:\n",
      "{'mlp__activation': 'tanh', 'mlp__alpha': np.float64(0.005777003278199915), 'mlp__hidden_layer_sizes': (50,), 'mlp__learning_rate': 'constant', 'mlp__learning_rate_init': np.float64(0.010695846277645586), 'mlp__solver': 'adam'}\n",
      "Accuracy Score: 0.327\n",
      "Classification Report:\n",
      "               precision    recall  f1-score   support\n",
      "\n",
      "        DDoS       0.33      0.28      0.30      2686\n",
      "   Intrusion       0.33      0.33      0.33      2653\n",
      "     Malware       0.32      0.37      0.34      2661\n",
      "\n",
      "    accuracy                           0.33      8000\n",
      "   macro avg       0.33      0.33      0.33      8000\n",
      "weighted avg       0.33      0.33      0.33      8000\n",
      "\n"
     ]
    }
   ],
   "source": [
    "import pandas as pd\n",
    "from sklearn.model_selection import train_test_split, RandomizedSearchCV\n",
    "from sklearn.preprocessing import StandardScaler, OneHotEncoder, OrdinalEncoder\n",
    "from sklearn.compose import ColumnTransformer\n",
    "from sklearn.pipeline import Pipeline\n",
    "from sklearn.neural_network import MLPClassifier\n",
    "from sklearn.metrics import accuracy_score, classification_report\n",
    "from scipy.stats import uniform\n",
    "\n",
    "# Load the dataset\n",
    "file_path = \"cyberdata_clean.csv\"\n",
    "cyberdata = pd.read_csv(file_path)\n",
    "\n",
    "if \"Attack Type\" in cyberdata.columns:\n",
    "    \n",
    "    # Define column lists by type\n",
    "    nominal_cols = [\n",
    "        \"Protocol\", \"Packet Type\", \"Traffic Type\", \"Attack Signature\",\n",
    "        \"Action Taken\", \"Network Segment\", \"Log Source\", \"City\", \"Region\", \"Browser\", \"Operating System\"\n",
    "    ]\n",
    "    \n",
    "    ordinal_cols = [\"Severity Level\", \"Anomaly Score Category\", \"Packet Length Category\"]\n",
    "    numeric_cols = [\"Source IP FirstOctet\", \"Destination IP FirstOctet\"]\n",
    "    \n",
    "    # Define the complete list of feature columns to be used for training\n",
    "    feature_cols = nominal_cols + ordinal_cols + numeric_cols\n",
    "    \n",
    "    # Create the ColumnTransformer with appropriate encoders\n",
    "    preprocessor = ColumnTransformer(\n",
    "        transformers=[\n",
    "            ('nom', OneHotEncoder(handle_unknown='ignore'), nominal_cols),\n",
    "            ('ord', OrdinalEncoder(), ordinal_cols),\n",
    "            ('num', StandardScaler(), numeric_cols)\n",
    "        ]\n",
    "    )\n",
    "    \n",
    "    # Create a pipeline that applies the preprocessor and then the classifier\n",
    "    pipeline = Pipeline([\n",
    "        ('preprocessor', preprocessor),\n",
    "        ('mlp', MLPClassifier(max_iter=1000, random_state=42))\n",
    "    ])\n",
    "    \n",
    "    # Prepare features and target\n",
    "    target = cyberdata[\"Attack Type\"]\n",
    "    features = cyberdata[feature_cols]\n",
    "\n",
    "    # Split data into training and testing sets\n",
    "    X_train, X_test, y_train, y_test = train_test_split(\n",
    "        features, target, test_size=0.2, random_state=42, stratify=target\n",
    "    )\n",
    "    \n",
    "    # Modified parameter distribution: using adam solver and lower regularization strength.\n",
    "    param_dist = {\n",
    "        'mlp__hidden_layer_sizes': [(50,), (100,), (50, 50), (100, 50)],\n",
    "        'mlp__activation': ['relu', 'tanh'],         \n",
    "        'mlp__solver': ['adam'],                       # adam for better convergence\n",
    "        'mlp__alpha': uniform(0.0001, 0.01),           # lower regularization strength\n",
    "        'mlp__learning_rate': ['constant'],            # learning rate strategy\n",
    "        'mlp__learning_rate_init': uniform(0.001, 0.01)  # lower learning rate initialization\n",
    "    }\n",
    "\n",
    "    # Setup RandomizedSearchCV\n",
    "    random_search = RandomizedSearchCV(\n",
    "        estimator=pipeline,\n",
    "        param_distributions=param_dist,\n",
    "        n_iter=20,\n",
    "        cv=5,\n",
    "        scoring='accuracy',\n",
    "        random_state=42,\n",
    "        n_jobs=-1\n",
    "    )\n",
    "\n",
    "    # Fit the pipeline with randomized search\n",
    "    random_search.fit(X_train, y_train)\n",
    "\n",
    "    print(\"Best hyperparameters:\")\n",
    "    print(random_search.best_params_)\n",
    "\n",
    "    # Evaluate on the test set\n",
    "    best_pipeline = random_search.best_estimator_\n",
    "    y_pred = best_pipeline.predict(X_test)\n",
    "    accuracy = accuracy_score(y_test, y_pred)\n",
    "    classification_rep = classification_report(y_test, y_pred)\n",
    "\n",
    "    print(\"Accuracy Score:\", accuracy)\n",
    "    print(\"Classification Report:\\n\", classification_rep)\n",
    "\n",
    "else:\n",
    "    print(\"Error: 'Attack Type' does not exist in the dataset\")\n"
   ]
  },
  {
   "cell_type": "markdown",
   "id": "fbcef36a",
   "metadata": {},
   "source": [
    "Persisting the model for deployment \n"
   ]
  },
  {
   "cell_type": "code",
   "execution_count": 10,
   "id": "cf5b1fb3",
   "metadata": {},
   "outputs": [
    {
     "data": {
      "text/plain": [
       "['cyberAttackPipeline.joblib']"
      ]
     },
     "execution_count": 10,
     "metadata": {},
     "output_type": "execute_result"
    }
   ],
   "source": [
    "import joblib\n",
    "# Save the entire pipeline for deployment ( we use pipeline to conserve the same scaler when a new data is entered)\n",
    "joblib.dump(best_pipeline, \"cyberAttackPipeline.joblib\")\n"
   ]
  },
  {
   "cell_type": "markdown",
   "id": "c8c78d35",
   "metadata": {},
   "source": [
    "Load the model"
   ]
  },
  {
   "cell_type": "code",
   "execution_count": null,
   "id": "a11782d6",
   "metadata": {},
   "outputs": [],
   "source": [
    "import joblib\n",
    "best_pipeline = joblib.load(\"cyberAttackPipeline.joblib\")"
   ]
  },
  {
   "cell_type": "markdown",
   "id": "2a704449",
   "metadata": {},
   "source": [
    "Predicting"
   ]
  },
  {
   "cell_type": "code",
   "execution_count": 2,
   "id": "1ec59649",
   "metadata": {},
   "outputs": [],
   "source": [
    "# index = X_test.index[1] ## second element in x_test matrix (from previous model testing)\n",
    "# test_index =  X_test.loc[[index]]\n",
    "# print(test_index)\n",
    "# predictions = best_pipeline.predict(test_index)\n",
    "# print(predictions)\n"
   ]
  },
  {
   "cell_type": "code",
   "execution_count": 1,
   "id": "3eccc0af",
   "metadata": {},
   "outputs": [],
   "source": [
    "# Choose two different indices\n",
    "# index1 = X_test.index[1]\n",
    "# index2 = X_test.index[15]\n",
    "\n",
    "# Extract the rows as DataFrames\n",
    "# row1 = X_test.loc[[index1]]\n",
    "# row2 = X_test.loc[[index2]]\n",
    "\n",
    "# Print the raw rows\n",
    "# print(\"Row 1:\")\n",
    "# print(row1)\n",
    "# print(\"\\nRow 2:\")\n",
    "# print(row2)\n",
    "\n",
    "# Get the preprocessed feature vectors\n",
    "# preproc = best_pipeline.named_steps[\"preprocessor\"]\n",
    "# transformed_row1 = preproc.transform(row1)\n",
    "# transformed_row2 = preproc.transform(row2)\n",
    "\n",
    "# print(\"\\nTransformed Row 1:\")\n",
    "# print(transformed_row1)\n",
    "# print(\"\\nTransformed Row 2:\")\n",
    "# print(transformed_row2)\n",
    "\n",
    "# Get predictions\n",
    "# pred1 = best_pipeline.predict(row1)\n",
    "# pred2 = best_pipeline.predict(row2)\n",
    "\n",
    "# print(\"\\nPrediction for Row 1:\", pred1)\n",
    "# print(\"Prediction for Row 2:\", pred2)\n"
   ]
  }
 ],
 "metadata": {
  "kernelspec": {
   "display_name": ".venv",
   "language": "python",
   "name": "python3"
  },
  "language_info": {
   "codemirror_mode": {
    "name": "ipython",
    "version": 3
   },
   "file_extension": ".py",
   "mimetype": "text/x-python",
   "name": "python",
   "nbconvert_exporter": "python",
   "pygments_lexer": "ipython3",
   "version": "3.12.4"
  }
 },
 "nbformat": 4,
 "nbformat_minor": 5
}
