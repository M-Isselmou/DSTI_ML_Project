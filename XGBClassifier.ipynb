{
 "cells": [
  {
   "cell_type": "markdown",
   "id": "460a10d0-4638-4862-a433-7f06480264bd",
   "metadata": {},
   "source": [
    "## XGBOOSTClassifier model with RandomizedSearchCV to the best paramater"
   ]
  },
  {
   "cell_type": "code",
   "execution_count": 14,
   "id": "d3e1b3b8-ffed-47d1-b890-f4c2b0cf296c",
   "metadata": {},
   "outputs": [
    {
     "name": "stderr",
     "output_type": "stream",
     "text": [
      "c:\\Users\\issel\\OneDrive\\Bureau\\isselmou\\dstiProject\\finalVersion\\DSTI_ML\\.venv\\Lib\\site-packages\\xgboost\\training.py:183: UserWarning: [18:10:54] WARNING: C:\\actions-runner\\_work\\xgboost\\xgboost\\src\\learner.cc:738: \n",
      "Parameters: { \"use_label_encoder\" } are not used.\n",
      "\n",
      "  bst.update(dtrain, iteration=i, fobj=obj)\n"
     ]
    },
    {
     "name": "stdout",
     "output_type": "stream",
     "text": [
      "Best hyperparameters:\n",
      "{'xgb__colsample_bytree': np.float64(0.8347004662655393), 'xgb__gamma': np.float64(0.28957659217924137), 'xgb__learning_rate': np.float64(0.1921102743060054), 'xgb__max_depth': 7, 'xgb__n_estimators': 90, 'xgb__reg_alpha': np.float64(0.1481367528520412), 'xgb__reg_lambda': np.float64(0.7479004085945038), 'xgb__subsample': np.float64(0.6062545626964776)}\n",
      "Accuracy Score: 0.34175\n",
      "Classification Report:\n",
      "               precision    recall  f1-score   support\n",
      "\n",
      "        DDoS       0.34      0.35      0.34      2686\n",
      "   Intrusion       0.34      0.33      0.33      2653\n",
      "     Malware       0.35      0.35      0.35      2661\n",
      "\n",
      "    accuracy                           0.34      8000\n",
      "   macro avg       0.34      0.34      0.34      8000\n",
      "weighted avg       0.34      0.34      0.34      8000\n",
      "\n"
     ]
    }
   ],
   "source": [
    "import pandas as pd\n",
    "from sklearn.model_selection import train_test_split, RandomizedSearchCV\n",
    "from sklearn.preprocessing import StandardScaler, OneHotEncoder, OrdinalEncoder, LabelEncoder\n",
    "from sklearn.compose import ColumnTransformer\n",
    "from sklearn.pipeline import Pipeline\n",
    "from xgboost import XGBClassifier\n",
    "from sklearn.metrics import accuracy_score, classification_report\n",
    "from scipy.stats import uniform, randint\n",
    "\n",
    "# Load the dataset\n",
    "file_path = \"cyberdata_clean.csv\"\n",
    "cyberdata = pd.read_csv(file_path)\n",
    "\n",
    "if \"Attack Type\" in cyberdata.columns:\n",
    "\n",
    "    # Define column lists by type\n",
    "    nominal_cols = [\n",
    "        \"Protocol\", \"Packet Type\", \"Traffic Type\", \"Attack Signature\",\n",
    "        \"Action Taken\", \"Network Segment\", \"Log Source\", \"City\", \"Region\", \"Browser\", \"Operating System\"\n",
    "    ]\n",
    "\n",
    "    ordinal_cols = [\"Severity Level\", \"Anomaly Score Category\", \"Packet Length Category\"]\n",
    "    numeric_cols = [\"Source IP FirstOctet\", \"Destination IP FirstOctet\"]\n",
    "\n",
    "    # Define feature columns\n",
    "    feature_cols = nominal_cols + ordinal_cols + numeric_cols\n",
    "\n",
    "    # Create ColumnTransformer\n",
    "    preprocessor = ColumnTransformer(\n",
    "        transformers=[\n",
    "            ('nom', OneHotEncoder(handle_unknown='ignore'), nominal_cols),\n",
    "            ('ord', OrdinalEncoder(), ordinal_cols),\n",
    "            ('num', StandardScaler(), numeric_cols)\n",
    "        ]\n",
    "    )\n",
    "\n",
    "    # Pipeline setup\n",
    "    pipeline = Pipeline([\n",
    "        ('preprocessor', preprocessor),\n",
    "        ('xgb', XGBClassifier(random_state=42, use_label_encoder=False, eval_metric='logloss'))\n",
    "    ])\n",
    "\n",
    "    # Features and target\n",
    "    target = cyberdata[\"Attack Type\"]\n",
    "    features = cyberdata[feature_cols]\n",
    "\n",
    "    # Encode labels\n",
    "    label_encoder = LabelEncoder()\n",
    "    target_encoded = label_encoder.fit_transform(target)\n",
    "\n",
    "    # Train-test split\n",
    "    X_train, X_test, y_train, y_test = train_test_split(\n",
    "        features, target_encoded, test_size=0.2, random_state=42, stratify=target_encoded\n",
    "    )\n",
    "\n",
    "    # Hyperparameter distribution\n",
    "    param_dist = {\n",
    "        'xgb__n_estimators': randint(50, 200),\n",
    "        'xgb__max_depth': randint(3, 10),\n",
    "        'xgb__learning_rate': uniform(0.01, 0.3),\n",
    "        'xgb__subsample': uniform(0.6, 0.4),\n",
    "        'xgb__colsample_bytree': uniform(0.6, 0.4),\n",
    "        'xgb__gamma': uniform(0, 0.3),\n",
    "        'xgb__reg_alpha': uniform(0, 0.5),\n",
    "        'xgb__reg_lambda': uniform(0.5, 1.5)\n",
    "    }\n",
    "\n",
    "    # RandomizedSearchCV\n",
    "    random_search = RandomizedSearchCV(\n",
    "        estimator=pipeline,\n",
    "        param_distributions=param_dist,\n",
    "        n_iter=20,\n",
    "        cv=5,\n",
    "        scoring='accuracy',\n",
    "        random_state=42,\n",
    "        n_jobs=-1\n",
    "    )\n",
    "\n",
    "    # Fit model\n",
    "    random_search.fit(X_train, y_train)\n",
    "\n",
    "    print(\"Best hyperparameters:\")\n",
    "    print(random_search.best_params_)\n",
    "\n",
    "    # Evaluate\n",
    "    best_pipeline = random_search.best_estimator_\n",
    "    y_pred = best_pipeline.predict(X_test)\n",
    "\n",
    "    accuracy = accuracy_score(y_test, y_pred)\n",
    "    classification_rep = classification_report(y_test, y_pred, target_names=label_encoder.classes_)\n",
    "\n",
    "    print(\"Accuracy Score:\", accuracy)\n",
    "    print(\"Classification Report:\\n\", classification_rep)\n",
    "\n",
    "else:\n",
    "    print(\"Error: 'Attack Type' does not exist in the dataset\")\n"
   ]
  },
  {
   "cell_type": "markdown",
   "id": "fbcef36a",
   "metadata": {},
   "source": [
    "Persisting the model for deployment \n"
   ]
  },
  {
   "cell_type": "code",
   "execution_count": 15,
   "id": "cf5b1fb3",
   "metadata": {},
   "outputs": [
    {
     "data": {
      "text/plain": [
       "['cyberAttackXgboost.joblib']"
      ]
     },
     "execution_count": 15,
     "metadata": {},
     "output_type": "execute_result"
    }
   ],
   "source": [
    "import joblib\n",
    "# Save the entire pipeline for deployment ( we use pipeline to conserve the same scaler when a new data is entered)\n",
    "joblib.dump(best_pipeline, \"cyberAttackXgboost.joblib\")\n"
   ]
  },
  {
   "cell_type": "code",
   "execution_count": 17,
   "id": "a11782d6",
   "metadata": {},
   "outputs": [],
   "source": [
    "import joblib\n",
    "best_pipeline = joblib.load(\"cyberAttackXgboost.joblib\")"
   ]
  },
  {
   "cell_type": "markdown",
   "id": "2a704449",
   "metadata": {},
   "source": [
    "Predicting"
   ]
  },
  {
   "cell_type": "code",
   "execution_count": 18,
   "id": "1c9fd7b4",
   "metadata": {},
   "outputs": [
    {
     "data": {
      "text/plain": [
       "array([2, 2, 0, ..., 0, 2, 1])"
      ]
     },
     "execution_count": 18,
     "metadata": {},
     "output_type": "execute_result"
    }
   ],
   "source": [
    "target_encoded"
   ]
  },
  {
   "cell_type": "code",
   "execution_count": 19,
   "id": "4eb64fac",
   "metadata": {},
   "outputs": [
    {
     "name": "stdout",
     "output_type": "stream",
     "text": [
      "0          Malware\n",
      "1          Malware\n",
      "2             DDoS\n",
      "3          Malware\n",
      "4             DDoS\n",
      "           ...    \n",
      "39995         DDoS\n",
      "39996         DDoS\n",
      "39997         DDoS\n",
      "39998      Malware\n",
      "39999    Intrusion\n",
      "Name: Attack Type, Length: 40000, dtype: object\n"
     ]
    }
   ],
   "source": [
    "print(target) "
   ]
  },
  {
   "cell_type": "markdown",
   "id": "471e5c71",
   "metadata": {},
   "source": [
    "{Malware:2\n",
    "DDos:0\n",
    "Intrusion:1}"
   ]
  },
  {
   "cell_type": "code",
   "execution_count": 22,
   "id": "1ec59649",
   "metadata": {},
   "outputs": [
    {
     "name": "stdout",
     "output_type": "stream",
     "text": [
      "      Protocol Packet Type Traffic Type Attack Signature Action Taken  \\\n",
      "17942     ICMP     Control         HTTP  Known Pattern B      Blocked   \n",
      "\n",
      "      Network Segment Log Source     City      Region  Browser  \\\n",
      "17942       Segment C     Server  Barasat  Tamil Nadu  Mozilla   \n",
      "\n",
      "      Operating System Severity Level Anomaly Score Category  \\\n",
      "17942          Windows           High                   25-0   \n",
      "\n",
      "      Packet Length Category  Source IP FirstOctet  Destination IP FirstOctet  \n",
      "17942                  short                     7                        118  \n",
      "attack type type: [2]\n"
     ]
    }
   ],
   "source": [
    "index = X_test.index[1] ## second element in x_test matrix (from previous model testing)\n",
    "test_index =  X_test.loc[[index]]\n",
    "print(test_index) \n",
    "predictions = best_pipeline.predict(test_index)\n",
    "\n",
    "print(\"attack Stype:\", predictions)\n"
   ]
  }
 ],
 "metadata": {
  "kernelspec": {
   "display_name": ".venv",
   "language": "python",
   "name": "python3"
  },
  "language_info": {
   "codemirror_mode": {
    "name": "ipython",
    "version": 3
   },
   "file_extension": ".py",
   "mimetype": "text/x-python",
   "name": "python",
   "nbconvert_exporter": "python",
   "pygments_lexer": "ipython3",
   "version": "3.12.4"
  }
 },
 "nbformat": 4,
 "nbformat_minor": 5
}
