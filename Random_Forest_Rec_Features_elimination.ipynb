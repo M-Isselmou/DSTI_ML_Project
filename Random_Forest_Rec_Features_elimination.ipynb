{
 "cells": [
  {
   "cell_type": "code",
   "execution_count": null,
   "metadata": {},
   "outputs": [
    {
     "name": "stdout",
     "output_type": "stream",
     "text": [
      "Optimal number of features: 8\n"
     ]
    },
    {
     "name": "stderr",
     "output_type": "stream",
     "text": [
      "2025/03/25 23:33:46 WARNING mlflow.models.model: Model logged without a signature and input example. Please set `input_example` parameter when logging the model to auto infer the model signature.\n"
     ]
    },
    {
     "name": "stdout",
     "output_type": "stream",
     "text": [
      "✅ Random Forest model with RFECV logged to MLflow\n",
      "Accuracy: 0.329375\n",
      "Classification Report:\n",
      "               precision    recall  f1-score   support\n",
      "\n",
      "           0       0.33      0.35      0.34      2686\n",
      "           1       0.32      0.32      0.32      2653\n",
      "           2       0.33      0.31      0.32      2661\n",
      "\n",
      "    accuracy                           0.33      8000\n",
      "   macro avg       0.33      0.33      0.33      8000\n",
      "weighted avg       0.33      0.33      0.33      8000\n",
      "\n"
     ]
    }
   ],
   "source": [
    "import pandas as pd\n",
    "from sklearn.model_selection import train_test_split, StratifiedKFold\n",
    "from sklearn.preprocessing import StandardScaler\n",
    "from sklearn.feature_selection import RFECV\n",
    "from sklearn.ensemble import RandomForestClassifier\n",
    "from sklearn.metrics import accuracy_score, classification_report\n",
    "import mlflow\n",
    "import mlflow.sklearn\n",
    "\n",
    "# Load dataset\n",
    "file_path = r\"C:\\Users\\torjm\\OneDrive\\Bureau\\Master Degree\\first year\\ML\\project1\\Project 1\\cybersecurity-dashboard\\Datasets\\cyberdata_ip_city.csv\"\n",
    "cyberdata = pd.read_csv(file_path)\n",
    "\n",
    "if \"Attack Type\" in cyberdata.columns:\n",
    "    features = cyberdata.select_dtypes(include=['number']).drop(columns=[\"Attack Type\"], errors='ignore')\n",
    "    target = cyberdata[\"Attack Type\"]\n",
    "\n",
    "    X_train, X_test, y_train, y_test = train_test_split(\n",
    "        features, target, test_size=0.2, random_state=42, stratify=target\n",
    "    )\n",
    "\n",
    "    scaler = StandardScaler()\n",
    "    X_train_scaled = scaler.fit_transform(X_train)\n",
    "    X_test_scaled = scaler.transform(X_test)\n",
    "\n",
    "    rf_estimator = RandomForestClassifier(n_estimators=100, random_state=42)\n",
    "    cv_strategy = StratifiedKFold(n_splits=5, shuffle=True, random_state=42)\n",
    "\n",
    "    mlflow.set_experiment(\"CyberAttackDetection\")\n",
    "\n",
    "    with mlflow.start_run(run_name=\"RandomForest_RFECV\"):\n",
    "        rfecv = RFECV(estimator=rf_estimator, step=1, cv=cv_strategy, scoring='accuracy', n_jobs=-1)\n",
    "        rfecv.fit(X_train_scaled, y_train)\n",
    "\n",
    "        print(\"Optimal number of features:\", rfecv.n_features_)\n",
    "\n",
    "        X_train_selected = rfecv.transform(X_train_scaled)\n",
    "        X_test_selected = rfecv.transform(X_test_scaled)\n",
    "\n",
    "        final_model = RandomForestClassifier(n_estimators=100, random_state=42)\n",
    "        final_model.fit(X_train_selected, y_train)\n",
    "\n",
    "        y_pred = final_model.predict(X_test_selected)\n",
    "        accuracy = accuracy_score(y_test, y_pred)\n",
    "        classification_rep = classification_report(y_test, y_pred)\n",
    "\n",
    "        # Log parameters\n",
    "        mlflow.log_param(\"model_type\", \"RandomForest\")\n",
    "        mlflow.log_param(\"feature_selection\", \"RFECV\")\n",
    "        mlflow.log_param(\"n_estimators\", 100)\n",
    "        mlflow.log_param(\"n_features_selected\", rfecv.n_features_)\n",
    "\n",
    "        # Log metrics\n",
    "        mlflow.log_metric(\"accuracy\", accuracy)\n",
    "\n",
    "        # Log model\n",
    "        mlflow.sklearn.log_model(final_model, \"model\")\n",
    "\n",
    "        # Log selected features\n",
    "        selected_features = features.columns[rfecv.support_].tolist()\n",
    "        with open(\"selected_features_rf.txt\", \"w\") as f:\n",
    "            for feat in selected_features:\n",
    "                f.write(f\"{feat}\\n\")\n",
    "        mlflow.log_artifact(\"selected_features_rf.txt\")\n",
    "\n",
    "        # Log classification report\n",
    "        with open(\"classification_report_rf.txt\", \"w\") as f:\n",
    "            f.write(classification_rep)\n",
    "        mlflow.log_artifact(\"classification_report_rf.txt\")\n",
    "\n",
    "        print(\"Random Forest model with RFECV logged to MLflow\")\n",
    "        print(\"Accuracy:\", accuracy)\n",
    "        print(\"Classification Report:\\n\", classification_rep)\n",
    "\n",
    "else:\n",
    "    print(\"Error: 'Attack Type' does not exist in dataset.\")\n"
   ]
  }
 ],
 "metadata": {
  "kernelspec": {
   "display_name": "Python 3",
   "language": "python",
   "name": "python3"
  },
  "language_info": {
   "codemirror_mode": {
    "name": "ipython",
    "version": 3
   },
   "file_extension": ".py",
   "mimetype": "text/x-python",
   "name": "python",
   "nbconvert_exporter": "python",
   "pygments_lexer": "ipython3",
   "version": "3.10.16"
  }
 },
 "nbformat": 4,
 "nbformat_minor": 2
}
