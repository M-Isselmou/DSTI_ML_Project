{
 "cells": [
  {
   "cell_type": "code",
   "execution_count": 32,
   "id": "80965f3b-8d05-44b5-8010-3e3092ae1ae5",
   "metadata": {},
   "outputs": [
    {
     "data": {
      "text/html": [
       "<div>\n",
       "<style scoped>\n",
       "    .dataframe tbody tr th:only-of-type {\n",
       "        vertical-align: middle;\n",
       "    }\n",
       "\n",
       "    .dataframe tbody tr th {\n",
       "        vertical-align: top;\n",
       "    }\n",
       "\n",
       "    .dataframe thead th {\n",
       "        text-align: right;\n",
       "    }\n",
       "</style>\n",
       "<table border=\"1\" class=\"dataframe\">\n",
       "  <thead>\n",
       "    <tr style=\"text-align: right;\">\n",
       "      <th></th>\n",
       "      <th>Timestamp</th>\n",
       "      <th>Source IP Address</th>\n",
       "      <th>Destination IP Address</th>\n",
       "      <th>Source Port</th>\n",
       "      <th>Destination Port</th>\n",
       "      <th>Protocol</th>\n",
       "      <th>Packet Length</th>\n",
       "      <th>Packet Type</th>\n",
       "      <th>Traffic Type</th>\n",
       "      <th>Payload Data</th>\n",
       "      <th>...</th>\n",
       "      <th>Action Taken</th>\n",
       "      <th>Severity Level</th>\n",
       "      <th>User Information</th>\n",
       "      <th>Device Information</th>\n",
       "      <th>Network Segment</th>\n",
       "      <th>Geo-location Data</th>\n",
       "      <th>Proxy Information</th>\n",
       "      <th>Firewall Logs</th>\n",
       "      <th>IDS/IPS Alerts</th>\n",
       "      <th>Log Source</th>\n",
       "    </tr>\n",
       "  </thead>\n",
       "  <tbody>\n",
       "    <tr>\n",
       "      <th>0</th>\n",
       "      <td>2023-05-30 06:33:58</td>\n",
       "      <td>103.216.15.12</td>\n",
       "      <td>84.9.164.252</td>\n",
       "      <td>31225</td>\n",
       "      <td>17616</td>\n",
       "      <td>ICMP</td>\n",
       "      <td>503</td>\n",
       "      <td>Data</td>\n",
       "      <td>HTTP</td>\n",
       "      <td>Qui natus odio asperiores nam. Optio nobis ius...</td>\n",
       "      <td>...</td>\n",
       "      <td>Logged</td>\n",
       "      <td>Low</td>\n",
       "      <td>Reyansh Dugal</td>\n",
       "      <td>Mozilla/5.0 (compatible; MSIE 8.0; Windows NT ...</td>\n",
       "      <td>Segment A</td>\n",
       "      <td>Jamshedpur, Sikkim</td>\n",
       "      <td>150.9.97.135</td>\n",
       "      <td>Log Data</td>\n",
       "      <td>NaN</td>\n",
       "      <td>Server</td>\n",
       "    </tr>\n",
       "    <tr>\n",
       "      <th>1</th>\n",
       "      <td>2020-08-26 07:08:30</td>\n",
       "      <td>78.199.217.198</td>\n",
       "      <td>66.191.137.154</td>\n",
       "      <td>17245</td>\n",
       "      <td>48166</td>\n",
       "      <td>ICMP</td>\n",
       "      <td>1174</td>\n",
       "      <td>Data</td>\n",
       "      <td>HTTP</td>\n",
       "      <td>Aperiam quos modi officiis veritatis rem. Omni...</td>\n",
       "      <td>...</td>\n",
       "      <td>Blocked</td>\n",
       "      <td>Low</td>\n",
       "      <td>Sumer Rana</td>\n",
       "      <td>Mozilla/5.0 (compatible; MSIE 8.0; Windows NT ...</td>\n",
       "      <td>Segment B</td>\n",
       "      <td>Bilaspur, Nagaland</td>\n",
       "      <td>NaN</td>\n",
       "      <td>Log Data</td>\n",
       "      <td>NaN</td>\n",
       "      <td>Firewall</td>\n",
       "    </tr>\n",
       "    <tr>\n",
       "      <th>2</th>\n",
       "      <td>2022-11-13 08:23:25</td>\n",
       "      <td>63.79.210.48</td>\n",
       "      <td>198.219.82.17</td>\n",
       "      <td>16811</td>\n",
       "      <td>53600</td>\n",
       "      <td>UDP</td>\n",
       "      <td>306</td>\n",
       "      <td>Control</td>\n",
       "      <td>HTTP</td>\n",
       "      <td>Perferendis sapiente vitae soluta. Hic delectu...</td>\n",
       "      <td>...</td>\n",
       "      <td>Ignored</td>\n",
       "      <td>Low</td>\n",
       "      <td>Himmat Karpe</td>\n",
       "      <td>Mozilla/5.0 (compatible; MSIE 9.0; Windows NT ...</td>\n",
       "      <td>Segment C</td>\n",
       "      <td>Bokaro, Rajasthan</td>\n",
       "      <td>114.133.48.179</td>\n",
       "      <td>Log Data</td>\n",
       "      <td>Alert Data</td>\n",
       "      <td>Firewall</td>\n",
       "    </tr>\n",
       "    <tr>\n",
       "      <th>3</th>\n",
       "      <td>2023-07-02 10:38:46</td>\n",
       "      <td>163.42.196.10</td>\n",
       "      <td>101.228.192.255</td>\n",
       "      <td>20018</td>\n",
       "      <td>32534</td>\n",
       "      <td>UDP</td>\n",
       "      <td>385</td>\n",
       "      <td>Data</td>\n",
       "      <td>HTTP</td>\n",
       "      <td>Totam maxime beatae expedita explicabo porro l...</td>\n",
       "      <td>...</td>\n",
       "      <td>Blocked</td>\n",
       "      <td>Medium</td>\n",
       "      <td>Fateh Kibe</td>\n",
       "      <td>Mozilla/5.0 (Macintosh; PPC Mac OS X 10_11_5; ...</td>\n",
       "      <td>Segment B</td>\n",
       "      <td>Jaunpur, Rajasthan</td>\n",
       "      <td>NaN</td>\n",
       "      <td>NaN</td>\n",
       "      <td>Alert Data</td>\n",
       "      <td>Firewall</td>\n",
       "    </tr>\n",
       "    <tr>\n",
       "      <th>4</th>\n",
       "      <td>2023-07-16 13:11:07</td>\n",
       "      <td>71.166.185.76</td>\n",
       "      <td>189.243.174.238</td>\n",
       "      <td>6131</td>\n",
       "      <td>26646</td>\n",
       "      <td>TCP</td>\n",
       "      <td>1462</td>\n",
       "      <td>Data</td>\n",
       "      <td>DNS</td>\n",
       "      <td>Odit nesciunt dolorem nisi iste iusto. Animi v...</td>\n",
       "      <td>...</td>\n",
       "      <td>Blocked</td>\n",
       "      <td>Low</td>\n",
       "      <td>Dhanush Chad</td>\n",
       "      <td>Mozilla/5.0 (compatible; MSIE 5.0; Windows NT ...</td>\n",
       "      <td>Segment C</td>\n",
       "      <td>Anantapur, Tripura</td>\n",
       "      <td>149.6.110.119</td>\n",
       "      <td>NaN</td>\n",
       "      <td>Alert Data</td>\n",
       "      <td>Firewall</td>\n",
       "    </tr>\n",
       "  </tbody>\n",
       "</table>\n",
       "<p>5 rows × 25 columns</p>\n",
       "</div>"
      ],
      "text/plain": [
       "             Timestamp Source IP Address Destination IP Address  Source Port  \\\n",
       "0  2023-05-30 06:33:58     103.216.15.12           84.9.164.252        31225   \n",
       "1  2020-08-26 07:08:30    78.199.217.198         66.191.137.154        17245   \n",
       "2  2022-11-13 08:23:25      63.79.210.48          198.219.82.17        16811   \n",
       "3  2023-07-02 10:38:46     163.42.196.10        101.228.192.255        20018   \n",
       "4  2023-07-16 13:11:07     71.166.185.76        189.243.174.238         6131   \n",
       "\n",
       "   Destination Port Protocol  Packet Length Packet Type Traffic Type  \\\n",
       "0             17616     ICMP            503        Data         HTTP   \n",
       "1             48166     ICMP           1174        Data         HTTP   \n",
       "2             53600      UDP            306     Control         HTTP   \n",
       "3             32534      UDP            385        Data         HTTP   \n",
       "4             26646      TCP           1462        Data          DNS   \n",
       "\n",
       "                                        Payload Data  ... Action Taken  \\\n",
       "0  Qui natus odio asperiores nam. Optio nobis ius...  ...       Logged   \n",
       "1  Aperiam quos modi officiis veritatis rem. Omni...  ...      Blocked   \n",
       "2  Perferendis sapiente vitae soluta. Hic delectu...  ...      Ignored   \n",
       "3  Totam maxime beatae expedita explicabo porro l...  ...      Blocked   \n",
       "4  Odit nesciunt dolorem nisi iste iusto. Animi v...  ...      Blocked   \n",
       "\n",
       "   Severity Level User Information  \\\n",
       "0             Low    Reyansh Dugal   \n",
       "1             Low       Sumer Rana   \n",
       "2             Low     Himmat Karpe   \n",
       "3          Medium       Fateh Kibe   \n",
       "4             Low     Dhanush Chad   \n",
       "\n",
       "                                  Device Information Network Segment  \\\n",
       "0  Mozilla/5.0 (compatible; MSIE 8.0; Windows NT ...       Segment A   \n",
       "1  Mozilla/5.0 (compatible; MSIE 8.0; Windows NT ...       Segment B   \n",
       "2  Mozilla/5.0 (compatible; MSIE 9.0; Windows NT ...       Segment C   \n",
       "3  Mozilla/5.0 (Macintosh; PPC Mac OS X 10_11_5; ...       Segment B   \n",
       "4  Mozilla/5.0 (compatible; MSIE 5.0; Windows NT ...       Segment C   \n",
       "\n",
       "    Geo-location Data Proxy Information Firewall Logs IDS/IPS Alerts  \\\n",
       "0  Jamshedpur, Sikkim      150.9.97.135      Log Data            NaN   \n",
       "1  Bilaspur, Nagaland               NaN      Log Data            NaN   \n",
       "2   Bokaro, Rajasthan    114.133.48.179      Log Data     Alert Data   \n",
       "3  Jaunpur, Rajasthan               NaN           NaN     Alert Data   \n",
       "4  Anantapur, Tripura     149.6.110.119           NaN     Alert Data   \n",
       "\n",
       "  Log Source  \n",
       "0     Server  \n",
       "1   Firewall  \n",
       "2   Firewall  \n",
       "3   Firewall  \n",
       "4   Firewall  \n",
       "\n",
       "[5 rows x 25 columns]"
      ]
     },
     "execution_count": 32,
     "metadata": {},
     "output_type": "execute_result"
    }
   ],
   "source": [
    "import pandas as pd\n",
    "import matplotlib.pyplot as plt\n",
    "import seaborn as sns\n",
    "\n",
    "\n",
    "cyberdata=pd.read_csv(\"cybersecurity_attacks.csv\")\n",
    "cyberdata.head()"
   ]
  },
  {
   "cell_type": "markdown",
   "id": "e3845fbe-7066-4c8b-a060-9c890fb583fa",
   "metadata": {},
   "source": [
    "### We select the nan categorical data with the target"
   ]
  },
  {
   "cell_type": "code",
   "execution_count": 4,
   "id": "c83c7e24-6bfa-4ff6-b4dc-5e7ca7e74e77",
   "metadata": {},
   "outputs": [
    {
     "data": {
      "text/html": [
       "<div>\n",
       "<style scoped>\n",
       "    .dataframe tbody tr th:only-of-type {\n",
       "        vertical-align: middle;\n",
       "    }\n",
       "\n",
       "    .dataframe tbody tr th {\n",
       "        vertical-align: top;\n",
       "    }\n",
       "\n",
       "    .dataframe thead th {\n",
       "        text-align: right;\n",
       "    }\n",
       "</style>\n",
       "<table border=\"1\" class=\"dataframe\">\n",
       "  <thead>\n",
       "    <tr style=\"text-align: right;\">\n",
       "      <th></th>\n",
       "      <th>Malware Indicators</th>\n",
       "      <th>Alerts/Warnings</th>\n",
       "      <th>Firewall Logs</th>\n",
       "      <th>IDS/IPS Alerts</th>\n",
       "      <th>Attack Type</th>\n",
       "    </tr>\n",
       "  </thead>\n",
       "  <tbody>\n",
       "    <tr>\n",
       "      <th>0</th>\n",
       "      <td>IoC Detected</td>\n",
       "      <td>NaN</td>\n",
       "      <td>Log Data</td>\n",
       "      <td>NaN</td>\n",
       "      <td>Malware</td>\n",
       "    </tr>\n",
       "    <tr>\n",
       "      <th>1</th>\n",
       "      <td>IoC Detected</td>\n",
       "      <td>NaN</td>\n",
       "      <td>Log Data</td>\n",
       "      <td>NaN</td>\n",
       "      <td>Malware</td>\n",
       "    </tr>\n",
       "    <tr>\n",
       "      <th>2</th>\n",
       "      <td>IoC Detected</td>\n",
       "      <td>Alert Triggered</td>\n",
       "      <td>Log Data</td>\n",
       "      <td>Alert Data</td>\n",
       "      <td>DDoS</td>\n",
       "    </tr>\n",
       "    <tr>\n",
       "      <th>3</th>\n",
       "      <td>NaN</td>\n",
       "      <td>Alert Triggered</td>\n",
       "      <td>NaN</td>\n",
       "      <td>Alert Data</td>\n",
       "      <td>Malware</td>\n",
       "    </tr>\n",
       "    <tr>\n",
       "      <th>4</th>\n",
       "      <td>NaN</td>\n",
       "      <td>Alert Triggered</td>\n",
       "      <td>NaN</td>\n",
       "      <td>Alert Data</td>\n",
       "      <td>DDoS</td>\n",
       "    </tr>\n",
       "    <tr>\n",
       "      <th>...</th>\n",
       "      <td>...</td>\n",
       "      <td>...</td>\n",
       "      <td>...</td>\n",
       "      <td>...</td>\n",
       "      <td>...</td>\n",
       "    </tr>\n",
       "    <tr>\n",
       "      <th>39995</th>\n",
       "      <td>IoC Detected</td>\n",
       "      <td>NaN</td>\n",
       "      <td>Log Data</td>\n",
       "      <td>Alert Data</td>\n",
       "      <td>DDoS</td>\n",
       "    </tr>\n",
       "    <tr>\n",
       "      <th>39996</th>\n",
       "      <td>IoC Detected</td>\n",
       "      <td>NaN</td>\n",
       "      <td>Log Data</td>\n",
       "      <td>NaN</td>\n",
       "      <td>DDoS</td>\n",
       "    </tr>\n",
       "    <tr>\n",
       "      <th>39997</th>\n",
       "      <td>IoC Detected</td>\n",
       "      <td>NaN</td>\n",
       "      <td>Log Data</td>\n",
       "      <td>Alert Data</td>\n",
       "      <td>DDoS</td>\n",
       "    </tr>\n",
       "    <tr>\n",
       "      <th>39998</th>\n",
       "      <td>IoC Detected</td>\n",
       "      <td>Alert Triggered</td>\n",
       "      <td>Log Data</td>\n",
       "      <td>NaN</td>\n",
       "      <td>Malware</td>\n",
       "    </tr>\n",
       "    <tr>\n",
       "      <th>39999</th>\n",
       "      <td>NaN</td>\n",
       "      <td>Alert Triggered</td>\n",
       "      <td>Log Data</td>\n",
       "      <td>Alert Data</td>\n",
       "      <td>Intrusion</td>\n",
       "    </tr>\n",
       "  </tbody>\n",
       "</table>\n",
       "<p>40000 rows × 5 columns</p>\n",
       "</div>"
      ],
      "text/plain": [
       "      Malware Indicators  Alerts/Warnings Firewall Logs IDS/IPS Alerts  \\\n",
       "0           IoC Detected              NaN      Log Data            NaN   \n",
       "1           IoC Detected              NaN      Log Data            NaN   \n",
       "2           IoC Detected  Alert Triggered      Log Data     Alert Data   \n",
       "3                    NaN  Alert Triggered           NaN     Alert Data   \n",
       "4                    NaN  Alert Triggered           NaN     Alert Data   \n",
       "...                  ...              ...           ...            ...   \n",
       "39995       IoC Detected              NaN      Log Data     Alert Data   \n",
       "39996       IoC Detected              NaN      Log Data            NaN   \n",
       "39997       IoC Detected              NaN      Log Data     Alert Data   \n",
       "39998       IoC Detected  Alert Triggered      Log Data            NaN   \n",
       "39999                NaN  Alert Triggered      Log Data     Alert Data   \n",
       "\n",
       "      Attack Type  \n",
       "0         Malware  \n",
       "1         Malware  \n",
       "2            DDoS  \n",
       "3         Malware  \n",
       "4            DDoS  \n",
       "...           ...  \n",
       "39995        DDoS  \n",
       "39996        DDoS  \n",
       "39997        DDoS  \n",
       "39998     Malware  \n",
       "39999   Intrusion  \n",
       "\n",
       "[40000 rows x 5 columns]"
      ]
     },
     "execution_count": 4,
     "metadata": {},
     "output_type": "execute_result"
    }
   ],
   "source": [
    "nan_cols = cyberdata[[\"Malware Indicators\", \"Alerts/Warnings\", \"Firewall Logs\", \"IDS/IPS Alerts\",\"Attack Type\"]]\n",
    "nan_cols"
   ]
  },
  {
   "cell_type": "code",
   "execution_count": 6,
   "id": "f172f793-899f-41f3-aa1b-f06d0bae5182",
   "metadata": {},
   "outputs": [
    {
     "name": "stdout",
     "output_type": "stream",
     "text": [
      "Malware Indicators    1\n",
      "Alerts/Warnings       1\n",
      "Firewall Logs         1\n",
      "IDS/IPS Alerts        1\n",
      "dtype: int64\n"
     ]
    }
   ],
   "source": [
    "nbvariable_nan = cyberdata[[\"Malware Indicators\", \"Alerts/Warnings\",  \"Firewall Logs\", \"IDS/IPS Alerts\"]].nunique()\n",
    "print(nbvariable_nan)"
   ]
  },
  {
   "cell_type": "markdown",
   "id": "4e34276d-ac89-4459-931c-5dbe413eed80",
   "metadata": {},
   "source": [
    "### Malware Indicators by Attack Type"
   ]
  },
  {
   "cell_type": "code",
   "execution_count": 15,
   "id": "f25d7dad-e055-42cb-b387-496bf5459426",
   "metadata": {},
   "outputs": [
    {
     "name": "stdout",
     "output_type": "stream",
     "text": [
      "Attack types associated with 'IoC Detected':\n",
      "Attack Type\n",
      "Malware      6681\n",
      "Intrusion    6665\n",
      "DDoS         6654\n",
      "Name: count, dtype: int64\n"
     ]
    },
    {
     "data": {
      "text/plain": [
       "Text(0, 0.5, 'Number of Occurrences')"
      ]
     },
     "execution_count": 15,
     "metadata": {},
     "output_type": "execute_result"
    },
    {
     "data": {
      "image/png": "[encoded data removed]",
      "text/plain": [
       "<Figure size 800x600 with 1 Axes>"
      ]
     },
     "metadata": {},
     "output_type": "display_data"
    }
   ],
   "source": [
    "ioc_detected = nan_cols[nan_cols[\"Malware Indicators\"] == \"IoC Detected\"]\n",
    "attack_type_counts = ioc_detected[\"Attack Type\"].value_counts()\n",
    "\n",
    "print(\"Attack types associated with 'IoC Detected':\")\n",
    "print(attack_type_counts)\n",
    "\n",
    "\n",
    "import pandas as pd\n",
    "import matplotlib.pyplot as plt\n",
    "import seaborn as sns\n",
    "\n",
    "plt.figure(figsize=(8, 6))\n",
    "sns.barplot(x=attack_type_counts.index, y=attack_type_counts.values, hue=attack_type_counts.index, palette=\"viridis\", legend=False)\n",
    "plt.title(\"Attack Types Associated with 'IoC Detected'\")\n",
    "plt.xlabel(\"Attack Type\")\n",
    "plt.ylabel(\"Number of Occurrences\")\n",
    "\n"
   ]
  },
  {
   "cell_type": "markdown",
   "id": "f7d3f98d-dbd5-4bcd-867a-9ce5b61dff87",
   "metadata": {},
   "source": [
    "### Bilan 1/ "
   ]
  },
  {
   "cell_type": "markdown",
   "id": "dc062d2d-229b-46fa-89b9-6914db8a6bc0",
   "metadata": {},
   "source": [
    "We can see here that, despite the 20,000 NaN values, the dataset is perfectly designed to mislead us"
   ]
  },
  {
   "cell_type": "markdown",
   "id": "cfaa474a-e31e-45c2-9ded-35b858d7561a",
   "metadata": {},
   "source": [
    "### Alerts/Warnings by Attack Type"
   ]
  },
  {
   "cell_type": "code",
   "execution_count": 20,
   "id": "763bb0c9-6e33-45de-bf24-dd4fc089225b",
   "metadata": {},
   "outputs": [
    {
     "name": "stdout",
     "output_type": "stream",
     "text": [
      "Attack types associated with 'Alert Triggered':\n",
      "Attack Type\n",
      "Malware      6735\n",
      "DDoS         6673\n",
      "Intrusion    6525\n",
      "Name: count, dtype: int64\n"
     ]
    },
    {
     "data": {
      "text/plain": [
       "Text(0, 0.5, 'Number of Occurrences')"
      ]
     },
     "execution_count": 20,
     "metadata": {},
     "output_type": "execute_result"
    },
    {
     "data": {
      "image/png": "[encoded data removed]",
      "text/plain": [
       "<Figure size 800x600 with 1 Axes>"
      ]
     },
     "metadata": {},
     "output_type": "display_data"
    }
   ],
   "source": [
    "alert_triggered = nan_cols[nan_cols[\"Alerts/Warnings\"] == \"Alert Triggered\"]\n",
    "attack_type_counts = ioc_detected[\"Attack Type\"].value_counts()\n",
    "\n",
    "print(\"Attack types associated with 'Alert Triggered':\")\n",
    "print(attack_type_counts)\n",
    "\n",
    "\n",
    "import pandas as pd\n",
    "import matplotlib.pyplot as plt\n",
    "import seaborn as sns\n",
    "\n",
    "plt.figure(figsize=(8, 6))\n",
    "sns.barplot(x=attack_type_counts.index, y=attack_type_counts.values, hue=attack_type_counts.index, palette=\"viridis\", legend=False)\n",
    "plt.title(\"Attack Types Associated with 'Alert Triggered'\")\n",
    "plt.xlabel(\"Attack Type\")\n",
    "plt.ylabel(\"Number of Occurrences\")\n",
    "\n"
   ]
  },
  {
   "cell_type": "markdown",
   "id": "12be465f-9ce1-4d20-8c48-2c9abe105004",
   "metadata": {},
   "source": [
    "## Bilan 2/\n",
    "We can see here that, despite the 20,000 NaN values, the dataset is perfectly designed to mislead us.\n",
    "\n"
   ]
  },
  {
   "cell_type": "markdown",
   "id": "a9220484-5f9a-492c-8b4c-006f97fa48fc",
   "metadata": {},
   "source": [
    "### Firewall Logs by Attack Type"
   ]
  },
  {
   "cell_type": "code",
   "execution_count": 31,
   "id": "2aa2834f-7ae8-4d53-974e-9196ef9c3bcd",
   "metadata": {},
   "outputs": [
    {
     "name": "stdout",
     "output_type": "stream",
     "text": [
      "Attack types associated with 'Log Data':\n",
      "Attack Type\n",
      "DDoS         6712\n",
      "Malware      6704\n",
      "Intrusion    6623\n",
      "Name: count, dtype: int64\n"
     ]
    },
    {
     "data": {
      "text/plain": [
       "Text(0, 0.5, 'Number of Occurrences')"
      ]
     },
     "execution_count": 31,
     "metadata": {},
     "output_type": "execute_result"
    },
    {
     "data": {
      "image/png": "[encoded data removed]",
      "text/plain": [
       "<Figure size 800x600 with 1 Axes>"
      ]
     },
     "metadata": {},
     "output_type": "display_data"
    }
   ],
   "source": [
    "log_data = nan_cols[nan_cols[\"Firewall Logs\"] == \"Log Data\"]\n",
    "attack_type_counts = log_data[\"Attack Type\"].value_counts()\n",
    "\n",
    "print(\"Attack types associated with 'Log Data':\")\n",
    "print(attack_type_counts)\n",
    "\n",
    "\n",
    "import pandas as pd\n",
    "import matplotlib.pyplot as plt\n",
    "import seaborn as sns\n",
    "\n",
    "plt.figure(figsize=(8, 6))\n",
    "sns.barplot(x=attack_type_counts.index, y=attack_type_counts.values, hue=attack_type_counts.index, palette=\"viridis\", legend=False)\n",
    "plt.title(\"Attack Types Associated with 'Log Data'\")\n",
    "plt.xlabel(\"Attack Type\")\n",
    "plt.ylabel(\"Number of Occurrences\")"
   ]
  },
  {
   "cell_type": "markdown",
   "id": "af9e22be-59b4-4b7f-bb82-14f89bede762",
   "metadata": {},
   "source": [
    "## Bilan 3/\n",
    "We can see here that, despite the 20,000 NaN values, the dataset is perfectly designed to mislead us."
   ]
  },
  {
   "cell_type": "markdown",
   "id": "cccf1f08-a45b-413d-a7c0-dbdc27b22c1d",
   "metadata": {},
   "source": [
    "### IDS/IPS Alerts by Attack Type"
   ]
  },
  {
   "cell_type": "code",
   "execution_count": 30,
   "id": "0b11eee4-ea18-4630-8a32-38ca5a7b745a",
   "metadata": {},
   "outputs": [
    {
     "name": "stdout",
     "output_type": "stream",
     "text": [
      "Attack types associated with 'Alert Data':\n",
      "Attack Type\n",
      "DDoS         6697\n",
      "Malware      6666\n",
      "Intrusion    6587\n",
      "Name: count, dtype: int64\n"
     ]
    },
    {
     "data": {
      "text/plain": [
       "Text(0, 0.5, 'Number of Occurrences')"
      ]
     },
     "execution_count": 30,
     "metadata": {},
     "output_type": "execute_result"
    },
    {
     "data": {
      "image/png": "[encoded data removed]",
      "text/plain": [
       "<Figure size 800x600 with 1 Axes>"
      ]
     },
     "metadata": {},
     "output_type": "display_data"
    }
   ],
   "source": [
    "alert_data = nan_cols[nan_cols[\"IDS/IPS Alerts\"] == \"Alert Data\"]\n",
    "attack_type_counts = alert_data[\"Attack Type\"].value_counts()\n",
    "\n",
    "print(\"Attack types associated with 'Alert Data':\")\n",
    "print(attack_type_counts)\n",
    "\n",
    "\n",
    "import pandas as pd\n",
    "import matplotlib.pyplot as plt\n",
    "import seaborn as sns\n",
    "\n",
    "plt.figure(figsize=(8, 6))\n",
    "sns.barplot(x=attack_type_counts.index, y=attack_type_counts.values, hue=attack_type_counts.index, palette=\"viridis\", legend=False)\n",
    "plt.title(\"Attack Types Associated with 'Alert Data'\")\n",
    "plt.xlabel(\"Attack Type\")\n",
    "plt.ylabel(\"Number of Occurrences\")"
   ]
  },
  {
   "cell_type": "markdown",
   "id": "e4b10261-403f-45b0-a750-15ce55dce2a2",
   "metadata": {},
   "source": [
    "## Bilan 4/\n",
    "We can see here that, despite the 20,000 NaN values, the dataset is perfectly designed to mislead us."
   ]
  },
  {
   "cell_type": "markdown",
   "id": "bb33a867-b522-43d1-bf04-77de0d016155",
   "metadata": {},
   "source": [
    "# Bilan\n",
    "\n",
    "Since these values are not particularly useful and include 20,000 NaN entries, we will compare two datasets: one retaining these values and one excluding them."
   ]
  }
 ],
 "metadata": {
  "kernelspec": {
   "display_name": "Python 3 (ipykernel)",
   "language": "python",
   "name": "python3"
  },
  "language_info": {
   "codemirror_mode": {
    "name": "ipython",
    "version": 3
   },
   "file_extension": ".py",
   "mimetype": "text/x-python",
   "name": "python",
   "nbconvert_exporter": "python",
   "pygments_lexer": "ipython3",
   "version": "3.12.4"
  }
 },
 "nbformat": 4,
 "nbformat_minor": 5
}
