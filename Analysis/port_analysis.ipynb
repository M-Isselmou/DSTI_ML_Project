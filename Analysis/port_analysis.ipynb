{
 "cells": [
  {
   "cell_type": "code",
   "execution_count": null,
   "id": "0bac4a85-6651-4b13-a068-bbd4af0f3400",
   "metadata": {},
   "outputs": [],
   "source": [
    "import pandas as pd\n",
    "import matplotlib.pyplot as plt\n",
    "import seaborn as sns\n",
    "\n",
    "\n",
    "cyberdata=pd.read_csv(\"cybersecurity_attacks.csv\")\n",
    "cyberdata.head()"
   ]
  },
  {
   "cell_type": "code",
   "execution_count": 11,
   "id": "0b0d0022-a44c-4268-8747-a1b06f9a85ba",
   "metadata": {},
   "outputs": [
    {
     "data": {
      "text/html": [
       "<div>\n",
       "<style scoped>\n",
       "    .dataframe tbody tr th:only-of-type {\n",
       "        vertical-align: middle;\n",
       "    }\n",
       "\n",
       "    .dataframe tbody tr th {\n",
       "        vertical-align: top;\n",
       "    }\n",
       "\n",
       "    .dataframe thead th {\n",
       "        text-align: right;\n",
       "    }\n",
       "</style>\n",
       "<table border=\"1\" class=\"dataframe\">\n",
       "  <thead>\n",
       "    <tr style=\"text-align: right;\">\n",
       "      <th></th>\n",
       "      <th>attack type</th>\n",
       "      <th>source port</th>\n",
       "      <th>destination port</th>\n",
       "    </tr>\n",
       "  </thead>\n",
       "  <tbody>\n",
       "    <tr>\n",
       "      <th>0</th>\n",
       "      <td>Malware</td>\n",
       "      <td>31225</td>\n",
       "      <td>17616</td>\n",
       "    </tr>\n",
       "    <tr>\n",
       "      <th>1</th>\n",
       "      <td>Malware</td>\n",
       "      <td>17245</td>\n",
       "      <td>48166</td>\n",
       "    </tr>\n",
       "    <tr>\n",
       "      <th>2</th>\n",
       "      <td>DDoS</td>\n",
       "      <td>16811</td>\n",
       "      <td>53600</td>\n",
       "    </tr>\n",
       "    <tr>\n",
       "      <th>3</th>\n",
       "      <td>Malware</td>\n",
       "      <td>20018</td>\n",
       "      <td>32534</td>\n",
       "    </tr>\n",
       "    <tr>\n",
       "      <th>4</th>\n",
       "      <td>DDoS</td>\n",
       "      <td>6131</td>\n",
       "      <td>26646</td>\n",
       "    </tr>\n",
       "    <tr>\n",
       "      <th>...</th>\n",
       "      <td>...</td>\n",
       "      <td>...</td>\n",
       "      <td>...</td>\n",
       "    </tr>\n",
       "    <tr>\n",
       "      <th>39995</th>\n",
       "      <td>DDoS</td>\n",
       "      <td>31005</td>\n",
       "      <td>6764</td>\n",
       "    </tr>\n",
       "    <tr>\n",
       "      <th>39996</th>\n",
       "      <td>DDoS</td>\n",
       "      <td>2553</td>\n",
       "      <td>28091</td>\n",
       "    </tr>\n",
       "    <tr>\n",
       "      <th>39997</th>\n",
       "      <td>DDoS</td>\n",
       "      <td>22505</td>\n",
       "      <td>25152</td>\n",
       "    </tr>\n",
       "    <tr>\n",
       "      <th>39998</th>\n",
       "      <td>Malware</td>\n",
       "      <td>20013</td>\n",
       "      <td>2703</td>\n",
       "    </tr>\n",
       "    <tr>\n",
       "      <th>39999</th>\n",
       "      <td>Intrusion</td>\n",
       "      <td>50137</td>\n",
       "      <td>55575</td>\n",
       "    </tr>\n",
       "  </tbody>\n",
       "</table>\n",
       "<p>40000 rows × 3 columns</p>\n",
       "</div>"
      ],
      "text/plain": [
       "      attack type  source port  destination port\n",
       "0         Malware        31225             17616\n",
       "1         Malware        17245             48166\n",
       "2            DDoS        16811             53600\n",
       "3         Malware        20018             32534\n",
       "4            DDoS         6131             26646\n",
       "...           ...          ...               ...\n",
       "39995        DDoS        31005              6764\n",
       "39996        DDoS         2553             28091\n",
       "39997        DDoS        22505             25152\n",
       "39998     Malware        20013              2703\n",
       "39999   Intrusion        50137             55575\n",
       "\n",
       "[40000 rows x 3 columns]"
      ]
     },
     "execution_count": 11,
     "metadata": {},
     "output_type": "execute_result"
    }
   ],
   "source": [
    "import pandas as pd\n",
    "import matplotlib.pyplot as plt\n",
    "\n",
    "\n",
    "cyberdata.columns = cyberdata.columns.str.strip()  \n",
    "cyberdata.columns = cyberdata.columns.str.lower()  \n",
    "\n",
    "port = cyberdata[[\"attack type\",\"source port\",\t\"destination port\"]]\n",
    "port"
   ]
  },
  {
   "cell_type": "markdown",
   "id": "9eb0b93c-ff9e-4554-bf19-ec1d72c1e042",
   "metadata": {},
   "source": [
    "#### # Get the number of unique entries for each column in the port"
   ]
  },
  {
   "cell_type": "code",
   "execution_count": 12,
   "id": "5db9a21b-7264-459d-8098-6965ec11ee89",
   "metadata": {},
   "outputs": [
    {
     "name": "stdout",
     "output_type": "stream",
     "text": [
      "Unique values in each column:\n",
      "attack type             3\n",
      "source port         29761\n",
      "destination port    29895\n",
      "dtype: int64\n"
     ]
    }
   ],
   "source": [
    "\n",
    "unique_counts = port.nunique()\n",
    "print(\"Unique values in each column:\")\n",
    "print(unique_counts)\n"
   ]
  },
  {
   "cell_type": "code",
   "execution_count": 13,
   "id": "61a1ec87-0b6e-4864-88e5-e096e5d6679f",
   "metadata": {},
   "outputs": [
    {
     "name": "stdout",
     "output_type": "stream",
     "text": [
      "Repeated Source Ports and their counts:\n",
      "source port\n",
      "41341    6\n",
      "31656    5\n",
      "8653     5\n",
      "24528    5\n",
      "60026    5\n",
      "        ..\n",
      "29112    2\n",
      "50639    2\n",
      "59914    2\n",
      "20781    2\n",
      "61873    2\n",
      "Name: count, Length: 8333, dtype: int64\n",
      "\n",
      "Repeated Destination Ports and their counts:\n",
      "destination port\n",
      "34117    6\n",
      "7508     6\n",
      "30804    5\n",
      "37248    5\n",
      "57508    5\n",
      "        ..\n",
      "61125    2\n",
      "9520     2\n",
      "48438    2\n",
      "17998    2\n",
      "42543    2\n",
      "Name: count, Length: 8217, dtype: int64\n",
      "\n",
      "Repeated Attack Types and their counts:\n",
      "attack type\n",
      "DDoS         13428\n",
      "Malware      13307\n",
      "Intrusion    13265\n",
      "Name: count, dtype: int64\n"
     ]
    }
   ],
   "source": [
    "\n",
    "source_port_counts = port['source port'].value_counts()\n",
    "destination_port_counts = port['destination port'].value_counts()\n",
    "attack_type_counts = port['attack type'].value_counts()\n",
    "\n",
    "\n",
    "repeated_source_ports = source_port_counts[source_port_counts > 1]\n",
    "repeated_destination_ports = destination_port_counts[destination_port_counts > 1]\n",
    "repeated_attack_types = attack_type_counts[attack_type_counts > 1]\n",
    "\n",
    "\n",
    "print(\"Repeated Source Ports and their counts:\")\n",
    "print(repeated_source_ports)\n",
    "print(\"\\nRepeated Destination Ports and their counts:\")\n",
    "print(repeated_destination_ports)\n",
    "print(\"\\nRepeated Attack Types and their counts:\")\n",
    "print(repeated_attack_types)\n",
    "\n",
    "\n"
   ]
  },
  {
   "cell_type": "markdown",
   "id": "349fdb2c-6b56-48a5-83a5-24c55e3c7341",
   "metadata": {},
   "source": [
    "#### Top 5 repeated source ports to see if there is a pattern"
   ]
  },
  {
   "cell_type": "code",
   "execution_count": 23,
   "id": "bde00e36-4136-435e-be78-e03e9ed38605",
   "metadata": {},
   "outputs": [
    {
     "name": "stdout",
     "output_type": "stream",
     "text": [
      "\n",
      "Attack Types for Source Port: 41341\n",
      "['Malware' 'Intrusion' 'DDoS']\n",
      "\n",
      "Attack Types for Source Port: 31656\n",
      "['DDoS' 'Malware' 'Intrusion']\n",
      "\n",
      "Attack Types for Source Port: 8653\n",
      "['Malware' 'Intrusion']\n",
      "\n",
      "Attack Types for Source Port: 24528\n",
      "['Malware' 'DDoS' 'Intrusion']\n",
      "\n",
      "Attack Types for Source Port: 60026\n",
      "['Malware' 'Intrusion']\n"
     ]
    }
   ],
   "source": [
    "top_repeated_ports = [41341, 31656, 8653, 24528, 60026]\n",
    "\n",
    "\n",
    "for port in top_repeated_ports:\n",
    "    print(f\"\\nAttack Types for Source Port: {port}\")\n",
    "    filtered_data = cyberdata[cyberdata['source port'] == port]\n",
    "    attack_types_for_port = filtered_data['attack type'].unique()\n",
    "    print(attack_types_for_port)"
   ]
  },
  {
   "cell_type": "markdown",
   "id": "dc6d7833-1a5b-450d-b0bc-9219435f487e",
   "metadata": {},
   "source": [
    "## Bilan"
   ]
  },
  {
   "cell_type": "markdown",
   "id": "c8ad7c59-3191-447f-8793-63f762508fa5",
   "metadata": {},
   "source": [
    "We can see there is no pattern here nothing to say more \n",
    "So this col is not useful\n"
   ]
  }
 ],
 "metadata": {
  "kernelspec": {
   "display_name": "Python 3 (ipykernel)",
   "language": "python",
   "name": "python3"
  },
  "language_info": {
   "codemirror_mode": {
    "name": "ipython",
    "version": 3
   },
   "file_extension": ".py",
   "mimetype": "text/x-python",
   "name": "python",
   "nbconvert_exporter": "python",
   "pygments_lexer": "ipython3",
   "version": "3.12.4"
  }
 },
 "nbformat": 4,
 "nbformat_minor": 5
}
